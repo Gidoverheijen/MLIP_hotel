{
 "cells": [
  {
   "cell_type": "markdown",
   "id": "18ce7fbb",
   "metadata": {
    "id": "DAY5rHgTm7e8",
    "papermill": {
     "duration": 0.023756,
     "end_time": "2022-05-29T21:18:18.897258",
     "exception": false,
     "start_time": "2022-05-29T21:18:18.873502",
     "status": "completed"
    },
    "tags": []
   },
   "source": [
    "# Intro\n",
    "Inference notebook for [Hotel-ID starter - similarity - training](https://www.kaggle.com/code/michaln/hotel-id-starter-similarity-training)\n",
    "\n",
    "Using model and embeddings from the training notebook to generate embeddings for test data and find similar images."
   ]
  },
  {
   "cell_type": "markdown",
   "id": "dffcb728",
   "metadata": {
    "papermill": {
     "duration": 0.023617,
     "end_time": "2022-05-29T21:18:18.945849",
     "exception": false,
     "start_time": "2022-05-29T21:18:18.922232",
     "status": "completed"
    },
    "tags": []
   },
   "source": [
    "# Setup"
   ]
  },
  {
   "cell_type": "code",
   "execution_count": 1,
   "id": "0b37d07b",
   "metadata": {
    "execution": {
     "iopub.execute_input": "2022-05-29T21:18:19.005125Z",
     "iopub.status.busy": "2022-05-29T21:18:19.003945Z",
     "iopub.status.idle": "2022-05-29T21:18:19.007820Z",
     "shell.execute_reply": "2022-05-29T21:18:19.007269Z",
     "shell.execute_reply.started": "2022-05-29T21:17:28.290804Z"
    },
    "executionInfo": {
     "elapsed": 16271,
     "status": "ok",
     "timestamp": 1619310548121,
     "user": {
      "displayName": "Jeom Jin-Ho",
      "photoUrl": "",
      "userId": "00155613517919499503"
     },
     "user_tz": -120
    },
    "id": "alleged-legislation",
    "outputId": "c6541e5f-ffb4-4609-d6c6-39784e6a07b1",
    "papermill": {
     "duration": 0.038471,
     "end_time": "2022-05-29T21:18:19.007959",
     "exception": false,
     "start_time": "2022-05-29T21:18:18.969488",
     "status": "completed"
    },
    "tags": []
   },
   "outputs": [],
   "source": [
    "import sys\n",
    "sys.path.append('../input/timm-pytorch-image-models/pytorch-image-models-master')"
   ]
  },
  {
   "cell_type": "markdown",
   "id": "5f610ca7",
   "metadata": {
    "id": "cZoSOL9Qm-Yr",
    "papermill": {
     "duration": 0.022842,
     "end_time": "2022-05-29T21:18:19.058278",
     "exception": false,
     "start_time": "2022-05-29T21:18:19.035436",
     "status": "completed"
    },
    "tags": []
   },
   "source": [
    "# Imports"
   ]
  },
  {
   "cell_type": "code",
   "execution_count": 2,
   "id": "618b9cd4",
   "metadata": {
    "_cell_guid": "b1076dfc-b9ad-4769-8c92-a6c4dae69d19",
    "_uuid": "8f2839f25d086af736a60e9eeb907d3b93b6e0e5",
    "execution": {
     "iopub.execute_input": "2022-05-29T21:18:19.108302Z",
     "iopub.status.busy": "2022-05-29T21:18:19.107578Z",
     "iopub.status.idle": "2022-05-29T21:18:19.109967Z",
     "shell.execute_reply": "2022-05-29T21:18:19.109505Z",
     "shell.execute_reply.started": "2022-05-29T21:17:28.301238Z"
    },
    "executionInfo": {
     "elapsed": 14459,
     "status": "ok",
     "timestamp": 1619310548121,
     "user": {
      "displayName": "Jeom Jin-Ho",
      "photoUrl": "",
      "userId": "00155613517919499503"
     },
     "user_tz": -120
    },
    "id": "expired-matter",
    "papermill": {
     "duration": 0.028822,
     "end_time": "2022-05-29T21:18:19.110073",
     "exception": false,
     "start_time": "2022-05-29T21:18:19.081251",
     "status": "completed"
    },
    "tags": []
   },
   "outputs": [],
   "source": [
    "import numpy as np\n",
    "import pandas as pd\n",
    "import random\n",
    "import os\n",
    "import math"
   ]
  },
  {
   "cell_type": "code",
   "execution_count": 3,
   "id": "86d9b0ae",
   "metadata": {
    "execution": {
     "iopub.execute_input": "2022-05-29T21:18:19.160029Z",
     "iopub.status.busy": "2022-05-29T21:18:19.159228Z",
     "iopub.status.idle": "2022-05-29T21:18:19.160961Z",
     "shell.execute_reply": "2022-05-29T21:18:19.161417Z",
     "shell.execute_reply.started": "2022-05-29T21:17:28.310928Z"
    },
    "executionInfo": {
     "elapsed": 16003,
     "status": "ok",
     "timestamp": 1619310550014,
     "user": {
      "displayName": "Jeom Jin-Ho",
      "photoUrl": "",
      "userId": "00155613517919499503"
     },
     "user_tz": -120
    },
    "id": "extreme-problem",
    "papermill": {
     "duration": 0.028501,
     "end_time": "2022-05-29T21:18:19.161546",
     "exception": false,
     "start_time": "2022-05-29T21:18:19.133045",
     "status": "completed"
    },
    "tags": []
   },
   "outputs": [],
   "source": [
    "from PIL import Image as pil_image\n",
    "from tqdm import tqdm"
   ]
  },
  {
   "cell_type": "code",
   "execution_count": 4,
   "id": "6b6f993f",
   "metadata": {
    "execution": {
     "iopub.execute_input": "2022-05-29T21:18:19.213842Z",
     "iopub.status.busy": "2022-05-29T21:18:19.213261Z",
     "iopub.status.idle": "2022-05-29T21:18:23.713187Z",
     "shell.execute_reply": "2022-05-29T21:18:23.712705Z",
     "shell.execute_reply.started": "2022-05-29T21:17:28.318520Z"
    },
    "executionInfo": {
     "elapsed": 19672,
     "status": "ok",
     "timestamp": 1619310554099,
     "user": {
      "displayName": "Jeom Jin-Ho",
      "photoUrl": "",
      "userId": "00155613517919499503"
     },
     "user_tz": -120
    },
    "id": "angry-domain",
    "papermill": {
     "duration": 4.526437,
     "end_time": "2022-05-29T21:18:23.713315",
     "exception": false,
     "start_time": "2022-05-29T21:18:19.186878",
     "status": "completed"
    },
    "tags": []
   },
   "outputs": [],
   "source": [
    "import torch\n",
    "import torch.nn as nn\n",
    "from torch.utils.data import DataLoader\n",
    "\n",
    "import timm\n",
    "from sklearn.metrics.pairwise import cosine_similarity"
   ]
  },
  {
   "cell_type": "markdown",
   "id": "9a389065",
   "metadata": {
    "id": "0B00pe7mnBTj",
    "papermill": {
     "duration": 0.022563,
     "end_time": "2022-05-29T21:18:23.759324",
     "exception": false,
     "start_time": "2022-05-29T21:18:23.736761",
     "status": "completed"
    },
    "tags": []
   },
   "source": [
    "# Global"
   ]
  },
  {
   "cell_type": "code",
   "execution_count": 5,
   "id": "7ec60cf5",
   "metadata": {
    "execution": {
     "iopub.execute_input": "2022-05-29T21:18:23.810143Z",
     "iopub.status.busy": "2022-05-29T21:18:23.809303Z",
     "iopub.status.idle": "2022-05-29T21:18:23.811092Z",
     "shell.execute_reply": "2022-05-29T21:18:23.811539Z",
     "shell.execute_reply.started": "2022-05-29T21:17:28.328106Z"
    },
    "executionInfo": {
     "elapsed": 589,
     "status": "ok",
     "timestamp": 1619310979015,
     "user": {
      "displayName": "Jeom Jin-Ho",
      "photoUrl": "",
      "userId": "00155613517919499503"
     },
     "user_tz": -120
    },
    "id": "contained-brief",
    "papermill": {
     "duration": 0.02965,
     "end_time": "2022-05-29T21:18:23.811664",
     "exception": false,
     "start_time": "2022-05-29T21:18:23.782014",
     "status": "completed"
    },
    "tags": []
   },
   "outputs": [],
   "source": [
    "SEED = 42\n",
    "IMG_SIZE = 256\n",
    "N_MATCHES = 5\n",
    "\n",
    "PROJECT_FOLDER = \"../input/hotel-id-to-combat-human-trafficking-2022-fgvc9/\"\n",
    "TRAIN_DATA_FOLDER = \"../input/hotelid-2022-train-images-256x256/images/\"\n",
    "TEST_DATA_FOLDER = PROJECT_FOLDER + \"test_images/\""
   ]
  },
  {
   "cell_type": "code",
   "execution_count": 6,
   "id": "0051f875",
   "metadata": {
    "execution": {
     "iopub.execute_input": "2022-05-29T21:18:23.862296Z",
     "iopub.status.busy": "2022-05-29T21:18:23.861334Z",
     "iopub.status.idle": "2022-05-29T21:18:23.865182Z",
     "shell.execute_reply": "2022-05-29T21:18:23.865615Z",
     "shell.execute_reply.started": "2022-05-29T21:17:28.336804Z"
    },
    "executionInfo": {
     "elapsed": 879,
     "status": "ok",
     "timestamp": 1619310979515,
     "user": {
      "displayName": "Jeom Jin-Ho",
      "photoUrl": "",
      "userId": "00155613517919499503"
     },
     "user_tz": -120
    },
    "id": "PZvmFng7ctO3",
    "outputId": "dce0cc91-8e70-4acc-a0b8-6763ffffd5ca",
    "papermill": {
     "duration": 0.030758,
     "end_time": "2022-05-29T21:18:23.865741",
     "exception": false,
     "start_time": "2022-05-29T21:18:23.834983",
     "status": "completed"
    },
    "tags": []
   },
   "outputs": [
    {
     "name": "stdout",
     "output_type": "stream",
     "text": [
      "['sample_submission.csv', 'train_images', 'train_masks', 'test_images']\n"
     ]
    }
   ],
   "source": [
    "print(os.listdir(PROJECT_FOLDER))"
   ]
  },
  {
   "cell_type": "code",
   "execution_count": 7,
   "id": "6f777dc5",
   "metadata": {
    "execution": {
     "iopub.execute_input": "2022-05-29T21:18:23.920701Z",
     "iopub.status.busy": "2022-05-29T21:18:23.918847Z",
     "iopub.status.idle": "2022-05-29T21:18:23.921264Z",
     "shell.execute_reply": "2022-05-29T21:18:23.921714Z",
     "shell.execute_reply.started": "2022-05-29T21:17:28.346797Z"
    },
    "executionInfo": {
     "elapsed": 600,
     "status": "ok",
     "timestamp": 1619310981653,
     "user": {
      "displayName": "Jeom Jin-Ho",
      "photoUrl": "",
      "userId": "00155613517919499503"
     },
     "user_tz": -120
    },
    "id": "eastern-content",
    "papermill": {
     "duration": 0.032058,
     "end_time": "2022-05-29T21:18:23.921851",
     "exception": false,
     "start_time": "2022-05-29T21:18:23.889793",
     "status": "completed"
    },
    "tags": []
   },
   "outputs": [],
   "source": [
    "def seed_everything(seed):\n",
    "    random.seed(seed)\n",
    "    os.environ['PYTHONHASHSEED'] = str(seed)\n",
    "    np.random.seed(seed)\n",
    "    torch.manual_seed(seed)\n",
    "    torch.cuda.manual_seed(seed)\n",
    "    torch.backends.cudnn.deterministic = True"
   ]
  },
  {
   "cell_type": "markdown",
   "id": "3c79788e",
   "metadata": {
    "id": "xaJKvvuKnW4k",
    "papermill": {
     "duration": 0.024223,
     "end_time": "2022-05-29T21:18:23.969909",
     "exception": false,
     "start_time": "2022-05-29T21:18:23.945686",
     "status": "completed"
    },
    "tags": []
   },
   "source": [
    "# Dataset and transformations"
   ]
  },
  {
   "cell_type": "code",
   "execution_count": 8,
   "id": "e39a0ffd",
   "metadata": {
    "execution": {
     "iopub.execute_input": "2022-05-29T21:18:24.025241Z",
     "iopub.status.busy": "2022-05-29T21:18:24.024454Z",
     "iopub.status.idle": "2022-05-29T21:18:25.261340Z",
     "shell.execute_reply": "2022-05-29T21:18:25.261976Z",
     "shell.execute_reply.started": "2022-05-29T21:17:28.354279Z"
    },
    "executionInfo": {
     "elapsed": 1519,
     "status": "ok",
     "timestamp": 1619310984075,
     "user": {
      "displayName": "Jeom Jin-Ho",
      "photoUrl": "",
      "userId": "00155613517919499503"
     },
     "user_tz": -120
    },
    "id": "revolutionary-membership",
    "papermill": {
     "duration": 1.267695,
     "end_time": "2022-05-29T21:18:25.262139",
     "exception": false,
     "start_time": "2022-05-29T21:18:23.994444",
     "status": "completed"
    },
    "tags": []
   },
   "outputs": [],
   "source": [
    "import albumentations as A\n",
    "import albumentations.pytorch as APT\n",
    "import cv2 \n",
    "\n",
    "base_transform = A.Compose([\n",
    "    A.ToFloat(),\n",
    "    APT.transforms.ToTensorV2(),\n",
    "])"
   ]
  },
  {
   "cell_type": "code",
   "execution_count": 9,
   "id": "6e7ef61c",
   "metadata": {
    "execution": {
     "iopub.execute_input": "2022-05-29T21:18:25.315775Z",
     "iopub.status.busy": "2022-05-29T21:18:25.315017Z",
     "iopub.status.idle": "2022-05-29T21:18:25.318589Z",
     "shell.execute_reply": "2022-05-29T21:18:25.318121Z",
     "shell.execute_reply.started": "2022-05-29T21:17:28.362846Z"
    },
    "papermill": {
     "duration": 0.033164,
     "end_time": "2022-05-29T21:18:25.318704",
     "exception": false,
     "start_time": "2022-05-29T21:18:25.285540",
     "status": "completed"
    },
    "tags": []
   },
   "outputs": [],
   "source": [
    "def pad_image(img):\n",
    "    w, h, c = np.shape(img)\n",
    "    if w > h:\n",
    "        pad = int((w - h) / 2)\n",
    "        img = cv2.copyMakeBorder(img, 0, 0, pad, pad, cv2.BORDER_CONSTANT, value=0)\n",
    "    else:\n",
    "        pad = int((h - w) / 2)\n",
    "        img = cv2.copyMakeBorder(img, pad, pad, 0, 0, cv2.BORDER_CONSTANT, value=0)\n",
    "        \n",
    "    return img\n",
    "\n",
    "\n",
    "def open_and_preprocess_image(image_path):\n",
    "    img = cv2.imread(image_path)\n",
    "    img = cv2.cvtColor(img, cv2.COLOR_BGR2RGB)\n",
    "    img = pad_image(img)\n",
    "    return cv2.resize(img, (IMG_SIZE, IMG_SIZE))"
   ]
  },
  {
   "cell_type": "code",
   "execution_count": 10,
   "id": "0fa8e273",
   "metadata": {
    "execution": {
     "iopub.execute_input": "2022-05-29T21:18:25.371829Z",
     "iopub.status.busy": "2022-05-29T21:18:25.371105Z",
     "iopub.status.idle": "2022-05-29T21:18:25.373649Z",
     "shell.execute_reply": "2022-05-29T21:18:25.373174Z",
     "shell.execute_reply.started": "2022-05-29T21:17:28.372844Z"
    },
    "executionInfo": {
     "elapsed": 1058,
     "status": "ok",
     "timestamp": 1619310984077,
     "user": {
      "displayName": "Jeom Jin-Ho",
      "photoUrl": "",
      "userId": "00155613517919499503"
     },
     "user_tz": -120
    },
    "id": "found-mouth",
    "papermill": {
     "duration": 0.031761,
     "end_time": "2022-05-29T21:18:25.373764",
     "exception": false,
     "start_time": "2022-05-29T21:18:25.342003",
     "status": "completed"
    },
    "tags": []
   },
   "outputs": [],
   "source": [
    "class HotelImageDataset:\n",
    "    def __init__(self, data, transform=None, data_folder=\"train_images/\"):\n",
    "        self.data = data\n",
    "        self.data_folder = data_folder\n",
    "        self.transform = transform\n",
    "\n",
    "    def __len__(self):\n",
    "        return len(self.data)\n",
    "    \n",
    "    def __getitem__(self, idx):\n",
    "        record = self.data.iloc[idx]\n",
    "        image_path = self.data_folder + record[\"image_id\"]\n",
    "        \n",
    "        image = np.array(open_and_preprocess_image(image_path)).astype(np.uint8)\n",
    "\n",
    "        if self.transform:\n",
    "            transformed = self.transform(image=image)\n",
    "            image = transformed[\"image\"]\n",
    "        \n",
    "        return {\n",
    "            \"image\" : image,\n",
    "        }"
   ]
  },
  {
   "cell_type": "markdown",
   "id": "3be7d62a",
   "metadata": {
    "id": "NMDM4PwPnced",
    "papermill": {
     "duration": 0.022798,
     "end_time": "2022-05-29T21:18:25.419647",
     "exception": false,
     "start_time": "2022-05-29T21:18:25.396849",
     "status": "completed"
    },
    "tags": []
   },
   "source": [
    "# Model"
   ]
  },
  {
   "cell_type": "code",
   "execution_count": 11,
   "id": "7766a0f5",
   "metadata": {
    "execution": {
     "iopub.execute_input": "2022-05-29T21:18:25.473948Z",
     "iopub.status.busy": "2022-05-29T21:18:25.473135Z",
     "iopub.status.idle": "2022-05-29T21:18:25.475718Z",
     "shell.execute_reply": "2022-05-29T21:18:25.475185Z",
     "shell.execute_reply.started": "2022-05-29T21:17:28.385713Z"
    },
    "papermill": {
     "duration": 0.033091,
     "end_time": "2022-05-29T21:18:25.475853",
     "exception": false,
     "start_time": "2022-05-29T21:18:25.442762",
     "status": "completed"
    },
    "tags": []
   },
   "outputs": [],
   "source": [
    "class EmbeddingModel(nn.Module):\n",
    "    def __init__(self, n_classes=100, embedding_size=64, backbone_name=\"efficientnet_b0\"):\n",
    "        super(EmbeddingModel, self).__init__()\n",
    "        \n",
    "        self.backbone = timm.create_model(backbone_name, num_classes=n_classes, pretrained=False)\n",
    "        in_features = self.backbone.get_classifier().in_features\n",
    "        \n",
    "        self.backbone.classifier = nn.Identity()\n",
    "        self.embedding = nn.Linear(in_features, embedding_size)\n",
    "        self.classifier = nn.Linear(embedding_size, n_classes)\n",
    "\n",
    "    def embed_and_classify(self, x):\n",
    "        x = self.forward(x)\n",
    "        return x, self.classifier(x)\n",
    "\n",
    "    def forward(self, x):\n",
    "        x = self.backbone(x)\n",
    "        x = x.view(x.size(0), -1)\n",
    "        x = self.embedding(x)\n",
    "        return x"
   ]
  },
  {
   "cell_type": "markdown",
   "id": "dd4dd005",
   "metadata": {
    "id": "YMZYKhUSneMY",
    "papermill": {
     "duration": 0.022669,
     "end_time": "2022-05-29T21:18:25.521964",
     "exception": false,
     "start_time": "2022-05-29T21:18:25.499295",
     "status": "completed"
    },
    "tags": []
   },
   "source": [
    "# Model helper functions"
   ]
  },
  {
   "cell_type": "code",
   "execution_count": 12,
   "id": "a288c680",
   "metadata": {
    "execution": {
     "iopub.execute_input": "2022-05-29T21:18:25.573266Z",
     "iopub.status.busy": "2022-05-29T21:18:25.572672Z",
     "iopub.status.idle": "2022-05-29T21:18:25.575443Z",
     "shell.execute_reply": "2022-05-29T21:18:25.574950Z",
     "shell.execute_reply.started": "2022-05-29T21:17:28.396813Z"
    },
    "papermill": {
     "duration": 0.030844,
     "end_time": "2022-05-29T21:18:25.575570",
     "exception": false,
     "start_time": "2022-05-29T21:18:25.544726",
     "status": "completed"
    },
    "tags": []
   },
   "outputs": [],
   "source": [
    "def generate_embeddings(args, loader, model, bar_desc=\"Generating embeds\"):\n",
    "    outputs_all = []\n",
    "    \n",
    "    model.eval()\n",
    "    with torch.no_grad():\n",
    "        t = tqdm(loader, desc=bar_desc)\n",
    "        for i, sample in enumerate(t):\n",
    "            input = sample['image'].to(args.device)\n",
    "            output = model(input)\n",
    "            outputs_all.extend(output.detach().cpu().numpy())\n",
    "            \n",
    "    return outputs_all"
   ]
  },
  {
   "cell_type": "code",
   "execution_count": 13,
   "id": "db035084",
   "metadata": {
    "execution": {
     "iopub.execute_input": "2022-05-29T21:18:25.629043Z",
     "iopub.status.busy": "2022-05-29T21:18:25.628238Z",
     "iopub.status.idle": "2022-05-29T21:18:25.630587Z",
     "shell.execute_reply": "2022-05-29T21:18:25.630154Z",
     "shell.execute_reply.started": "2022-05-29T21:17:28.406478Z"
    },
    "papermill": {
     "duration": 0.031981,
     "end_time": "2022-05-29T21:18:25.630689",
     "exception": false,
     "start_time": "2022-05-29T21:18:25.598708",
     "status": "completed"
    },
    "tags": []
   },
   "outputs": [],
   "source": [
    "def find_matches(query, base_embeds, base_targets, k=N_MATCHES):\n",
    "    distance_df = pd.DataFrame(index=np.arange(len(base_targets)), data={\"hotel_id\": base_targets})\n",
    "    # calculate cosine distance of query embeds to all base embeds\n",
    "    distance_df[\"distance\"] = cosine_similarity([query], list(base_embeds))[0]\n",
    "    # sort by distance and hotel_id\n",
    "    distance_df = distance_df.sort_values(by=[\"distance\", \"hotel_id\"], ascending=False).reset_index(drop=True)\n",
    "    # return first 5 different hotel_id_codes\n",
    "    return distance_df[\"hotel_id\"].unique()[:N_MATCHES]\n",
    "\n",
    "\n",
    "def predict(args, base_embeddings_df, test_loader, model):\n",
    "    test_embeds = generate_embeddings(args, test_loader, model, \"Generate test embeddings\")\n",
    "    \n",
    "    preds = []\n",
    "    for query_embeds in tqdm(test_embeds, desc=\"Similarity - match finding\"):\n",
    "        tmp = find_matches(query_embeds, \n",
    "                           base_embeddings_df[\"embeddings\"].values, \n",
    "                           base_embeddings_df[\"hotel_id\"].values)\n",
    "        preds.extend([tmp])\n",
    "        \n",
    "    return preds"
   ]
  },
  {
   "cell_type": "markdown",
   "id": "2569bab7",
   "metadata": {
    "id": "AwShW1wXniD6",
    "papermill": {
     "duration": 0.022987,
     "end_time": "2022-05-29T21:18:25.677341",
     "exception": false,
     "start_time": "2022-05-29T21:18:25.654354",
     "status": "completed"
    },
    "tags": []
   },
   "source": [
    "# Prepare data"
   ]
  },
  {
   "cell_type": "code",
   "execution_count": 14,
   "id": "bffa93ff",
   "metadata": {
    "execution": {
     "iopub.execute_input": "2022-05-29T21:18:25.727288Z",
     "iopub.status.busy": "2022-05-29T21:18:25.726695Z",
     "iopub.status.idle": "2022-05-29T21:18:25.739885Z",
     "shell.execute_reply": "2022-05-29T21:18:25.739318Z",
     "shell.execute_reply.started": "2022-05-29T21:17:28.418536Z"
    },
    "executionInfo": {
     "elapsed": 3742,
     "status": "ok",
     "timestamp": 1619311036476,
     "user": {
      "displayName": "Jeom Jin-Ho",
      "photoUrl": "",
      "userId": "00155613517919499503"
     },
     "user_tz": -120
    },
    "id": "discrete-right",
    "outputId": "c21ed589-3139-4919-b5d5-07bcf6f1df15",
    "papermill": {
     "duration": 0.039843,
     "end_time": "2022-05-29T21:18:25.739998",
     "exception": false,
     "start_time": "2022-05-29T21:18:25.700155",
     "status": "completed"
    },
    "tags": []
   },
   "outputs": [],
   "source": [
    "test_df = pd.DataFrame(data={\"image_id\": os.listdir(TEST_DATA_FOLDER), \"hotel_id\": \"\"}).sort_values(by=\"image_id\")"
   ]
  },
  {
   "cell_type": "markdown",
   "id": "6af3ab46",
   "metadata": {
    "id": "5JPdD2bpnniP",
    "papermill": {
     "duration": 0.022746,
     "end_time": "2022-05-29T21:18:25.785628",
     "exception": false,
     "start_time": "2022-05-29T21:18:25.762882",
     "status": "completed"
    },
    "tags": []
   },
   "source": [
    "# Prepare model"
   ]
  },
  {
   "cell_type": "code",
   "execution_count": 15,
   "id": "6b57b66b",
   "metadata": {
    "execution": {
     "iopub.execute_input": "2022-05-29T21:18:25.837261Z",
     "iopub.status.busy": "2022-05-29T21:18:25.836460Z",
     "iopub.status.idle": "2022-05-29T21:18:25.838838Z",
     "shell.execute_reply": "2022-05-29T21:18:25.838403Z",
     "shell.execute_reply.started": "2022-05-29T21:17:28.434222Z"
    },
    "papermill": {
     "duration": 0.029787,
     "end_time": "2022-05-29T21:18:25.838939",
     "exception": false,
     "start_time": "2022-05-29T21:18:25.809152",
     "status": "completed"
    },
    "tags": []
   },
   "outputs": [],
   "source": [
    "def get_model(backbone_name, checkpoint_path, args):\n",
    "    model = EmbeddingModel(args.n_classes, args.embedding_size, backbone_name)\n",
    "        \n",
    "    checkpoint = torch.load(checkpoint_path)\n",
    "    model.load_state_dict(checkpoint[\"model\"])\n",
    "    model = model.to(args.device)\n",
    "    \n",
    "    return model"
   ]
  },
  {
   "cell_type": "code",
   "execution_count": 16,
   "id": "7ac212ed",
   "metadata": {
    "execution": {
     "iopub.execute_input": "2022-05-29T21:18:25.958612Z",
     "iopub.status.busy": "2022-05-29T21:18:25.958014Z",
     "iopub.status.idle": "2022-05-29T21:18:25.963036Z",
     "shell.execute_reply": "2022-05-29T21:18:25.963472Z",
     "shell.execute_reply.started": "2022-05-29T21:17:28.442610Z"
    },
    "executionInfo": {
     "elapsed": 450,
     "status": "ok",
     "timestamp": 1619311064188,
     "user": {
      "displayName": "Jeom Jin-Ho",
      "photoUrl": "",
      "userId": "00155613517919499503"
     },
     "user_tz": -120
    },
    "id": "appointed-machinery",
    "papermill": {
     "duration": 0.10183,
     "end_time": "2022-05-29T21:18:25.963611",
     "exception": false,
     "start_time": "2022-05-29T21:18:25.861781",
     "status": "completed"
    },
    "tags": []
   },
   "outputs": [],
   "source": [
    "class args:\n",
    "    batch_size = 64\n",
    "    num_workers = 2\n",
    "    embedding_size = 512\n",
    "    device = ('cuda' if torch.cuda.is_available() else 'cpu')\n",
    "    \n",
    "    \n",
    "seed_everything(seed=SEED)\n",
    "\n",
    "test_dataset = HotelImageDataset(test_df, base_transform, data_folder=TEST_DATA_FOLDER)\n",
    "test_loader  = DataLoader(test_dataset, num_workers=args.num_workers, batch_size=args.batch_size, shuffle=False)"
   ]
  },
  {
   "cell_type": "code",
   "execution_count": 17,
   "id": "cc581af1",
   "metadata": {
    "execution": {
     "iopub.execute_input": "2022-05-29T21:18:26.013675Z",
     "iopub.status.busy": "2022-05-29T21:18:26.013138Z",
     "iopub.status.idle": "2022-05-29T21:18:27.538368Z",
     "shell.execute_reply": "2022-05-29T21:18:27.538797Z",
     "shell.execute_reply.started": "2022-05-29T21:17:28.453203Z"
    },
    "papermill": {
     "duration": 1.552238,
     "end_time": "2022-05-29T21:18:27.538951",
     "exception": false,
     "start_time": "2022-05-29T21:18:25.986713",
     "status": "completed"
    },
    "tags": []
   },
   "outputs": [
    {
     "data": {
      "text/html": [
       "<div>\n",
       "<style scoped>\n",
       "    .dataframe tbody tr th:only-of-type {\n",
       "        vertical-align: middle;\n",
       "    }\n",
       "\n",
       "    .dataframe tbody tr th {\n",
       "        vertical-align: top;\n",
       "    }\n",
       "\n",
       "    .dataframe thead th {\n",
       "        text-align: right;\n",
       "    }\n",
       "</style>\n",
       "<table border=\"1\" class=\"dataframe\">\n",
       "  <thead>\n",
       "    <tr style=\"text-align: right;\">\n",
       "      <th></th>\n",
       "      <th>image_id</th>\n",
       "      <th>hotel_id</th>\n",
       "      <th>hotel_id_code</th>\n",
       "      <th>embeddings</th>\n",
       "    </tr>\n",
       "  </thead>\n",
       "  <tbody>\n",
       "    <tr>\n",
       "      <th>0</th>\n",
       "      <td>000011648.jpg</td>\n",
       "      <td>155262</td>\n",
       "      <td>994</td>\n",
       "      <td>[0.2600437, -2.5026417, 3.6372359, -0.8196854,...</td>\n",
       "    </tr>\n",
       "    <tr>\n",
       "      <th>1</th>\n",
       "      <td>000011630.jpg</td>\n",
       "      <td>155260</td>\n",
       "      <td>992</td>\n",
       "      <td>[1.9434742, -2.433075, 6.0256257, -2.7310832, ...</td>\n",
       "    </tr>\n",
       "    <tr>\n",
       "      <th>2</th>\n",
       "      <td>000011650.jpg</td>\n",
       "      <td>155262</td>\n",
       "      <td>994</td>\n",
       "      <td>[0.50541246, -0.42157397, 5.097488, -3.1816576...</td>\n",
       "    </tr>\n",
       "    <tr>\n",
       "      <th>3</th>\n",
       "      <td>000011633.jpg</td>\n",
       "      <td>155261</td>\n",
       "      <td>993</td>\n",
       "      <td>[1.2168821, -3.356608, 1.6076555, -1.5412188, ...</td>\n",
       "    </tr>\n",
       "    <tr>\n",
       "      <th>4</th>\n",
       "      <td>000011656.jpg</td>\n",
       "      <td>155261</td>\n",
       "      <td>993</td>\n",
       "      <td>[1.941575, -3.7811406, 5.588589, -6.5544343, -...</td>\n",
       "    </tr>\n",
       "  </tbody>\n",
       "</table>\n",
       "</div>"
      ],
      "text/plain": [
       "        image_id hotel_id  hotel_id_code  \\\n",
       "0  000011648.jpg   155262            994   \n",
       "1  000011630.jpg   155260            992   \n",
       "2  000011650.jpg   155262            994   \n",
       "3  000011633.jpg   155261            993   \n",
       "4  000011656.jpg   155261            993   \n",
       "\n",
       "                                          embeddings  \n",
       "0  [0.2600437, -2.5026417, 3.6372359, -0.8196854,...  \n",
       "1  [1.9434742, -2.433075, 6.0256257, -2.7310832, ...  \n",
       "2  [0.50541246, -0.42157397, 5.097488, -3.1816576...  \n",
       "3  [1.2168821, -3.356608, 1.6076555, -1.5412188, ...  \n",
       "4  [1.941575, -3.7811406, 5.588589, -6.5544343, -...  "
      ]
     },
     "metadata": {},
     "output_type": "display_data"
    }
   ],
   "source": [
    "base_embeddings_df = pd.read_pickle('../input/hotel-id-starter-similarity-training/embedding-model-efficientnet_b2_pruned-256x256_image-embeddings.pkl')\n",
    "display(base_embeddings_df.head())"
   ]
  },
  {
   "cell_type": "code",
   "execution_count": 18,
   "id": "3400cbdc",
   "metadata": {
    "execution": {
     "iopub.execute_input": "2022-05-29T21:18:27.596115Z",
     "iopub.status.busy": "2022-05-29T21:18:27.595152Z",
     "iopub.status.idle": "2022-05-29T21:18:33.073531Z",
     "shell.execute_reply": "2022-05-29T21:18:33.072987Z",
     "shell.execute_reply.started": "2022-05-29T21:17:28.715692Z"
    },
    "papermill": {
     "duration": 5.511026,
     "end_time": "2022-05-29T21:18:33.073685",
     "exception": false,
     "start_time": "2022-05-29T21:18:27.562659",
     "status": "completed"
    },
    "tags": []
   },
   "outputs": [],
   "source": [
    "args.n_classes = base_embeddings_df[\"hotel_id\"].nunique()\n",
    "\n",
    "model = get_model(\"efficientnet_b2_pruned\",\n",
    "                  \"../input/hotel-id-starter-similarity-training/checkpoint-embedding-model-efficientnet_b2_pruned-256x256.pt\", \n",
    "                  args)"
   ]
  },
  {
   "cell_type": "markdown",
   "id": "993fd581",
   "metadata": {
    "papermill": {
     "duration": 0.025602,
     "end_time": "2022-05-29T21:18:33.125531",
     "exception": false,
     "start_time": "2022-05-29T21:18:33.099929",
     "status": "completed"
    },
    "tags": []
   },
   "source": [
    "# Submission"
   ]
  },
  {
   "cell_type": "code",
   "execution_count": 19,
   "id": "735f9872",
   "metadata": {
    "execution": {
     "iopub.execute_input": "2022-05-29T21:18:33.184079Z",
     "iopub.status.busy": "2022-05-29T21:18:33.183207Z",
     "iopub.status.idle": "2022-05-29T21:18:39.872229Z",
     "shell.execute_reply": "2022-05-29T21:18:39.872648Z",
     "shell.execute_reply.started": "2022-05-29T21:17:29.623463Z"
    },
    "papermill": {
     "duration": 6.721764,
     "end_time": "2022-05-29T21:18:39.872816",
     "exception": false,
     "start_time": "2022-05-29T21:18:33.151052",
     "status": "completed"
    },
    "tags": []
   },
   "outputs": [
    {
     "name": "stderr",
     "output_type": "stream",
     "text": [
      "Generate test embeddings: 100%|██████████| 1/1 [00:06<00:00,  6.24s/it]\n",
      "Similarity - match finding: 100%|██████████| 1/1 [00:00<00:00,  2.38it/s]"
     ]
    },
    {
     "name": "stdout",
     "output_type": "stream",
     "text": [
      "CPU times: user 1.26 s, sys: 895 ms, total: 2.15 s\n",
      "Wall time: 6.68 s\n"
     ]
    },
    {
     "name": "stderr",
     "output_type": "stream",
     "text": [
      "\n"
     ]
    },
    {
     "data": {
      "text/html": [
       "<div>\n",
       "<style scoped>\n",
       "    .dataframe tbody tr th:only-of-type {\n",
       "        vertical-align: middle;\n",
       "    }\n",
       "\n",
       "    .dataframe tbody tr th {\n",
       "        vertical-align: top;\n",
       "    }\n",
       "\n",
       "    .dataframe thead th {\n",
       "        text-align: right;\n",
       "    }\n",
       "</style>\n",
       "<table border=\"1\" class=\"dataframe\">\n",
       "  <thead>\n",
       "    <tr style=\"text-align: right;\">\n",
       "      <th></th>\n",
       "      <th>image_id</th>\n",
       "      <th>hotel_id</th>\n",
       "    </tr>\n",
       "  </thead>\n",
       "  <tbody>\n",
       "    <tr>\n",
       "      <th>0</th>\n",
       "      <td>abc.jpg</td>\n",
       "      <td>91842 309609 15691 18410 18800</td>\n",
       "    </tr>\n",
       "  </tbody>\n",
       "</table>\n",
       "</div>"
      ],
      "text/plain": [
       "  image_id                        hotel_id\n",
       "0  abc.jpg  91842 309609 15691 18410 18800"
      ]
     },
     "execution_count": 19,
     "metadata": {},
     "output_type": "execute_result"
    }
   ],
   "source": [
    "%%time\n",
    "\n",
    "preds = predict(args, base_embeddings_df, test_loader, model)\n",
    "# transform array of hotel_ids into string\n",
    "\n",
    "test_df[\"hotel_id\"] = [str(list([int(j[:-1]) for j in l])).strip(\"[]\").replace(\",\", \"\") for l in preds]\n",
    "\n",
    "test_df.to_csv(\"submission.csv\", index=False)\n",
    "test_df.head()"
   ]
  },
  {
   "cell_type": "code",
   "execution_count": null,
   "id": "e5790156",
   "metadata": {
    "papermill": {
     "duration": 0.026293,
     "end_time": "2022-05-29T21:18:39.925780",
     "exception": false,
     "start_time": "2022-05-29T21:18:39.899487",
     "status": "completed"
    },
    "tags": []
   },
   "outputs": [],
   "source": []
  }
 ],
 "metadata": {
  "kernelspec": {
   "display_name": "Python 3",
   "language": "python",
   "name": "python3"
  },
  "language_info": {
   "codemirror_mode": {
    "name": "ipython",
    "version": 3
   },
   "file_extension": ".py",
   "mimetype": "text/x-python",
   "name": "python",
   "nbconvert_exporter": "python",
   "pygments_lexer": "ipython3",
   "version": "3.7.12"
  },
  "papermill": {
   "default_parameters": {},
   "duration": 31.087961,
   "end_time": "2022-05-29T21:18:41.564236",
   "environment_variables": {},
   "exception": null,
   "input_path": "__notebook__.ipynb",
   "output_path": "__notebook__.ipynb",
   "parameters": {},
   "start_time": "2022-05-29T21:18:10.476275",
   "version": "2.3.3"
  }
 },
 "nbformat": 4,
 "nbformat_minor": 5
}
