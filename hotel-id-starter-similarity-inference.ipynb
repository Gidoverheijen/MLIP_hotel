{
 "cells": [
  {
   "cell_type": "markdown",
   "id": "b7205f37",
   "metadata": {
    "id": "DAY5rHgTm7e8",
    "papermill": {
     "duration": 0.02319,
     "end_time": "2022-05-30T14:31:36.062632",
     "exception": false,
     "start_time": "2022-05-30T14:31:36.039442",
     "status": "completed"
    },
    "tags": []
   },
   "source": [
    "# Intro\n",
    "Inference notebook for [Hotel-ID starter - similarity - training](https://www.kaggle.com/code/michaln/hotel-id-starter-similarity-training)\n",
    "\n",
    "Using model and embeddings from the training notebook to generate embeddings for test data and find similar images."
   ]
  },
  {
   "cell_type": "markdown",
   "id": "61885292",
   "metadata": {
    "papermill": {
     "duration": 0.022172,
     "end_time": "2022-05-30T14:31:36.107925",
     "exception": false,
     "start_time": "2022-05-30T14:31:36.085753",
     "status": "completed"
    },
    "tags": []
   },
   "source": [
    "# Setup"
   ]
  },
  {
   "cell_type": "code",
   "execution_count": 1,
   "id": "178fdd96",
   "metadata": {
    "execution": {
     "iopub.execute_input": "2022-05-30T14:31:36.166478Z",
     "iopub.status.busy": "2022-05-30T14:31:36.164171Z",
     "iopub.status.idle": "2022-05-30T14:31:36.174048Z",
     "shell.execute_reply": "2022-05-30T14:31:36.174655Z",
     "shell.execute_reply.started": "2022-05-30T14:29:58.271326Z"
    },
    "executionInfo": {
     "elapsed": 16271,
     "status": "ok",
     "timestamp": 1619310548121,
     "user": {
      "displayName": "Jeom Jin-Ho",
      "photoUrl": "",
      "userId": "00155613517919499503"
     },
     "user_tz": -120
    },
    "id": "alleged-legislation",
    "outputId": "c6541e5f-ffb4-4609-d6c6-39784e6a07b1",
    "papermill": {
     "duration": 0.045142,
     "end_time": "2022-05-30T14:31:36.174894",
     "exception": false,
     "start_time": "2022-05-30T14:31:36.129752",
     "status": "completed"
    },
    "tags": []
   },
   "outputs": [],
   "source": [
    "import sys\n",
    "sys.path.append('../input/timm-pytorch-image-models/pytorch-image-models-master')"
   ]
  },
  {
   "cell_type": "markdown",
   "id": "bbb55e2d",
   "metadata": {
    "id": "cZoSOL9Qm-Yr",
    "papermill": {
     "duration": 0.025609,
     "end_time": "2022-05-30T14:31:36.239844",
     "exception": false,
     "start_time": "2022-05-30T14:31:36.214235",
     "status": "completed"
    },
    "tags": []
   },
   "source": [
    "# Imports"
   ]
  },
  {
   "cell_type": "code",
   "execution_count": 2,
   "id": "2df5d862",
   "metadata": {
    "_cell_guid": "b1076dfc-b9ad-4769-8c92-a6c4dae69d19",
    "_uuid": "8f2839f25d086af736a60e9eeb907d3b93b6e0e5",
    "execution": {
     "iopub.execute_input": "2022-05-30T14:31:36.287841Z",
     "iopub.status.busy": "2022-05-30T14:31:36.287143Z",
     "iopub.status.idle": "2022-05-30T14:31:36.289523Z",
     "shell.execute_reply": "2022-05-30T14:31:36.289118Z",
     "shell.execute_reply.started": "2022-05-30T14:29:58.356734Z"
    },
    "executionInfo": {
     "elapsed": 14459,
     "status": "ok",
     "timestamp": 1619310548121,
     "user": {
      "displayName": "Jeom Jin-Ho",
      "photoUrl": "",
      "userId": "00155613517919499503"
     },
     "user_tz": -120
    },
    "id": "expired-matter",
    "papermill": {
     "duration": 0.027908,
     "end_time": "2022-05-30T14:31:36.289638",
     "exception": false,
     "start_time": "2022-05-30T14:31:36.261730",
     "status": "completed"
    },
    "tags": []
   },
   "outputs": [],
   "source": [
    "import numpy as np\n",
    "import pandas as pd\n",
    "import random\n",
    "import os\n",
    "import math"
   ]
  },
  {
   "cell_type": "code",
   "execution_count": 3,
   "id": "cfc74b71",
   "metadata": {
    "execution": {
     "iopub.execute_input": "2022-05-30T14:31:36.337984Z",
     "iopub.status.busy": "2022-05-30T14:31:36.337271Z",
     "iopub.status.idle": "2022-05-30T14:31:36.339567Z",
     "shell.execute_reply": "2022-05-30T14:31:36.339160Z",
     "shell.execute_reply.started": "2022-05-30T14:29:58.411914Z"
    },
    "executionInfo": {
     "elapsed": 16003,
     "status": "ok",
     "timestamp": 1619310550014,
     "user": {
      "displayName": "Jeom Jin-Ho",
      "photoUrl": "",
      "userId": "00155613517919499503"
     },
     "user_tz": -120
    },
    "id": "extreme-problem",
    "papermill": {
     "duration": 0.027332,
     "end_time": "2022-05-30T14:31:36.339670",
     "exception": false,
     "start_time": "2022-05-30T14:31:36.312338",
     "status": "completed"
    },
    "tags": []
   },
   "outputs": [],
   "source": [
    "from PIL import Image as pil_image\n",
    "from tqdm import tqdm"
   ]
  },
  {
   "cell_type": "code",
   "execution_count": 4,
   "id": "cf10972d",
   "metadata": {
    "execution": {
     "iopub.execute_input": "2022-05-30T14:31:36.390522Z",
     "iopub.status.busy": "2022-05-30T14:31:36.389825Z",
     "iopub.status.idle": "2022-05-30T14:31:40.708350Z",
     "shell.execute_reply": "2022-05-30T14:31:40.708871Z",
     "shell.execute_reply.started": "2022-05-30T14:29:58.469878Z"
    },
    "executionInfo": {
     "elapsed": 19672,
     "status": "ok",
     "timestamp": 1619310554099,
     "user": {
      "displayName": "Jeom Jin-Ho",
      "photoUrl": "",
      "userId": "00155613517919499503"
     },
     "user_tz": -120
    },
    "id": "angry-domain",
    "papermill": {
     "duration": 4.344886,
     "end_time": "2022-05-30T14:31:40.709034",
     "exception": false,
     "start_time": "2022-05-30T14:31:36.364148",
     "status": "completed"
    },
    "tags": []
   },
   "outputs": [],
   "source": [
    "import torch\n",
    "import torch.nn as nn\n",
    "from torch.utils.data import DataLoader\n",
    "\n",
    "import timm\n",
    "from sklearn.metrics.pairwise import cosine_similarity"
   ]
  },
  {
   "cell_type": "markdown",
   "id": "b233d5a9",
   "metadata": {
    "id": "0B00pe7mnBTj",
    "papermill": {
     "duration": 0.022253,
     "end_time": "2022-05-30T14:31:40.755498",
     "exception": false,
     "start_time": "2022-05-30T14:31:40.733245",
     "status": "completed"
    },
    "tags": []
   },
   "source": [
    "# Global"
   ]
  },
  {
   "cell_type": "code",
   "execution_count": 5,
   "id": "1e993968",
   "metadata": {
    "execution": {
     "iopub.execute_input": "2022-05-30T14:31:40.805439Z",
     "iopub.status.busy": "2022-05-30T14:31:40.803871Z",
     "iopub.status.idle": "2022-05-30T14:31:40.806031Z",
     "shell.execute_reply": "2022-05-30T14:31:40.806414Z",
     "shell.execute_reply.started": "2022-05-30T14:30:04.231277Z"
    },
    "executionInfo": {
     "elapsed": 589,
     "status": "ok",
     "timestamp": 1619310979015,
     "user": {
      "displayName": "Jeom Jin-Ho",
      "photoUrl": "",
      "userId": "00155613517919499503"
     },
     "user_tz": -120
    },
    "id": "contained-brief",
    "papermill": {
     "duration": 0.028867,
     "end_time": "2022-05-30T14:31:40.806587",
     "exception": false,
     "start_time": "2022-05-30T14:31:40.777720",
     "status": "completed"
    },
    "tags": []
   },
   "outputs": [],
   "source": [
    "SEED = 42\n",
    "IMG_SIZE = 256\n",
    "N_MATCHES = 5\n",
    "\n",
    "PROJECT_FOLDER = \"../input/hotel-id-to-combat-human-trafficking-2022-fgvc9/\"\n",
    "TRAIN_DATA_FOLDER = \"../input/hotelid-2022-train-images-256x256/images/\"\n",
    "TEST_DATA_FOLDER = PROJECT_FOLDER + \"test_images/\""
   ]
  },
  {
   "cell_type": "code",
   "execution_count": 6,
   "id": "a9ad418d",
   "metadata": {
    "execution": {
     "iopub.execute_input": "2022-05-30T14:31:40.855552Z",
     "iopub.status.busy": "2022-05-30T14:31:40.854656Z",
     "iopub.status.idle": "2022-05-30T14:31:40.858088Z",
     "shell.execute_reply": "2022-05-30T14:31:40.858726Z",
     "shell.execute_reply.started": "2022-05-30T14:30:04.242857Z"
    },
    "executionInfo": {
     "elapsed": 879,
     "status": "ok",
     "timestamp": 1619310979515,
     "user": {
      "displayName": "Jeom Jin-Ho",
      "photoUrl": "",
      "userId": "00155613517919499503"
     },
     "user_tz": -120
    },
    "id": "PZvmFng7ctO3",
    "outputId": "dce0cc91-8e70-4acc-a0b8-6763ffffd5ca",
    "papermill": {
     "duration": 0.029502,
     "end_time": "2022-05-30T14:31:40.858867",
     "exception": false,
     "start_time": "2022-05-30T14:31:40.829365",
     "status": "completed"
    },
    "tags": []
   },
   "outputs": [
    {
     "name": "stdout",
     "output_type": "stream",
     "text": [
      "['sample_submission.csv', 'train_images', 'train_masks', 'test_images']\n"
     ]
    }
   ],
   "source": [
    "print(os.listdir(PROJECT_FOLDER))"
   ]
  },
  {
   "cell_type": "code",
   "execution_count": 7,
   "id": "b247db0c",
   "metadata": {
    "execution": {
     "iopub.execute_input": "2022-05-30T14:31:40.910122Z",
     "iopub.status.busy": "2022-05-30T14:31:40.908566Z",
     "iopub.status.idle": "2022-05-30T14:31:40.910719Z",
     "shell.execute_reply": "2022-05-30T14:31:40.911122Z",
     "shell.execute_reply.started": "2022-05-30T14:30:04.260277Z"
    },
    "executionInfo": {
     "elapsed": 600,
     "status": "ok",
     "timestamp": 1619310981653,
     "user": {
      "displayName": "Jeom Jin-Ho",
      "photoUrl": "",
      "userId": "00155613517919499503"
     },
     "user_tz": -120
    },
    "id": "eastern-content",
    "papermill": {
     "duration": 0.029392,
     "end_time": "2022-05-30T14:31:40.911238",
     "exception": false,
     "start_time": "2022-05-30T14:31:40.881846",
     "status": "completed"
    },
    "tags": []
   },
   "outputs": [],
   "source": [
    "def seed_everything(seed):\n",
    "    random.seed(seed)\n",
    "    os.environ['PYTHONHASHSEED'] = str(seed)\n",
    "    np.random.seed(seed)\n",
    "    torch.manual_seed(seed)\n",
    "    torch.cuda.manual_seed(seed)\n",
    "    torch.backends.cudnn.deterministic = True"
   ]
  },
  {
   "cell_type": "markdown",
   "id": "c5af79d4",
   "metadata": {
    "id": "xaJKvvuKnW4k",
    "papermill": {
     "duration": 0.022267,
     "end_time": "2022-05-30T14:31:40.955823",
     "exception": false,
     "start_time": "2022-05-30T14:31:40.933556",
     "status": "completed"
    },
    "tags": []
   },
   "source": [
    "# Dataset and transformations"
   ]
  },
  {
   "cell_type": "code",
   "execution_count": 8,
   "id": "e4bb14dc",
   "metadata": {
    "execution": {
     "iopub.execute_input": "2022-05-30T14:31:41.005014Z",
     "iopub.status.busy": "2022-05-30T14:31:41.004330Z",
     "iopub.status.idle": "2022-05-30T14:31:42.130891Z",
     "shell.execute_reply": "2022-05-30T14:31:42.130312Z",
     "shell.execute_reply.started": "2022-05-30T14:30:04.272956Z"
    },
    "executionInfo": {
     "elapsed": 1519,
     "status": "ok",
     "timestamp": 1619310984075,
     "user": {
      "displayName": "Jeom Jin-Ho",
      "photoUrl": "",
      "userId": "00155613517919499503"
     },
     "user_tz": -120
    },
    "id": "revolutionary-membership",
    "papermill": {
     "duration": 1.152875,
     "end_time": "2022-05-30T14:31:42.131040",
     "exception": false,
     "start_time": "2022-05-30T14:31:40.978165",
     "status": "completed"
    },
    "tags": []
   },
   "outputs": [],
   "source": [
    "import albumentations as A\n",
    "import albumentations.pytorch as APT\n",
    "import cv2 \n",
    "\n",
    "base_transform = A.Compose([\n",
    "    A.ToFloat(),\n",
    "    APT.transforms.ToTensorV2(),\n",
    "])"
   ]
  },
  {
   "cell_type": "code",
   "execution_count": 9,
   "id": "945c06d6",
   "metadata": {
    "execution": {
     "iopub.execute_input": "2022-05-30T14:31:42.183869Z",
     "iopub.status.busy": "2022-05-30T14:31:42.183109Z",
     "iopub.status.idle": "2022-05-30T14:31:42.185395Z",
     "shell.execute_reply": "2022-05-30T14:31:42.184996Z",
     "shell.execute_reply.started": "2022-05-30T14:30:05.844797Z"
    },
    "papermill": {
     "duration": 0.031746,
     "end_time": "2022-05-30T14:31:42.185531",
     "exception": false,
     "start_time": "2022-05-30T14:31:42.153785",
     "status": "completed"
    },
    "tags": []
   },
   "outputs": [],
   "source": [
    "def pad_image(img):\n",
    "    w, h, c = np.shape(img)\n",
    "    if w > h:\n",
    "        pad = int((w - h) / 2)\n",
    "        img = cv2.copyMakeBorder(img, 0, 0, pad, pad, cv2.BORDER_CONSTANT, value=0)\n",
    "    else:\n",
    "        pad = int((h - w) / 2)\n",
    "        img = cv2.copyMakeBorder(img, pad, pad, 0, 0, cv2.BORDER_CONSTANT, value=0)\n",
    "        \n",
    "    return img\n",
    "\n",
    "\n",
    "def open_and_preprocess_image(image_path):\n",
    "    img = cv2.imread(image_path)\n",
    "    img = cv2.cvtColor(img, cv2.COLOR_BGR2RGB)\n",
    "    img = pad_image(img)\n",
    "    return cv2.resize(img, (IMG_SIZE, IMG_SIZE))"
   ]
  },
  {
   "cell_type": "code",
   "execution_count": 10,
   "id": "fa355ba6",
   "metadata": {
    "execution": {
     "iopub.execute_input": "2022-05-30T14:31:42.236667Z",
     "iopub.status.busy": "2022-05-30T14:31:42.235929Z",
     "iopub.status.idle": "2022-05-30T14:31:42.238317Z",
     "shell.execute_reply": "2022-05-30T14:31:42.237830Z",
     "shell.execute_reply.started": "2022-05-30T14:30:05.858067Z"
    },
    "executionInfo": {
     "elapsed": 1058,
     "status": "ok",
     "timestamp": 1619310984077,
     "user": {
      "displayName": "Jeom Jin-Ho",
      "photoUrl": "",
      "userId": "00155613517919499503"
     },
     "user_tz": -120
    },
    "id": "found-mouth",
    "papermill": {
     "duration": 0.030696,
     "end_time": "2022-05-30T14:31:42.238417",
     "exception": false,
     "start_time": "2022-05-30T14:31:42.207721",
     "status": "completed"
    },
    "tags": []
   },
   "outputs": [],
   "source": [
    "class HotelImageDataset:\n",
    "    def __init__(self, data, transform=None, data_folder=\"train_images/\"):\n",
    "        self.data = data\n",
    "        self.data_folder = data_folder\n",
    "        self.transform = transform\n",
    "\n",
    "    def __len__(self):\n",
    "        return len(self.data)\n",
    "    \n",
    "    def __getitem__(self, idx):\n",
    "        record = self.data.iloc[idx]\n",
    "        image_path = self.data_folder + record[\"image_id\"]\n",
    "        \n",
    "        image = np.array(open_and_preprocess_image(image_path)).astype(np.uint8)\n",
    "\n",
    "        if self.transform:\n",
    "            transformed = self.transform(image=image)\n",
    "            image = transformed[\"image\"]\n",
    "        \n",
    "        return {\n",
    "            \"image\" : image,\n",
    "        }"
   ]
  },
  {
   "cell_type": "markdown",
   "id": "4b16c8c9",
   "metadata": {
    "id": "NMDM4PwPnced",
    "papermill": {
     "duration": 0.022209,
     "end_time": "2022-05-30T14:31:42.283260",
     "exception": false,
     "start_time": "2022-05-30T14:31:42.261051",
     "status": "completed"
    },
    "tags": []
   },
   "source": [
    "# Model"
   ]
  },
  {
   "cell_type": "code",
   "execution_count": 11,
   "id": "09fbeb43",
   "metadata": {
    "execution": {
     "iopub.execute_input": "2022-05-30T14:31:42.335611Z",
     "iopub.status.busy": "2022-05-30T14:31:42.334859Z",
     "iopub.status.idle": "2022-05-30T14:31:42.337169Z",
     "shell.execute_reply": "2022-05-30T14:31:42.336771Z",
     "shell.execute_reply.started": "2022-05-30T14:30:05.874085Z"
    },
    "papermill": {
     "duration": 0.031376,
     "end_time": "2022-05-30T14:31:42.337270",
     "exception": false,
     "start_time": "2022-05-30T14:31:42.305894",
     "status": "completed"
    },
    "tags": []
   },
   "outputs": [],
   "source": [
    "class EmbeddingModel(nn.Module):\n",
    "    def __init__(self, n_classes=100, embedding_size=64, backbone_name=\"efficientnet_b0\"):\n",
    "        super(EmbeddingModel, self).__init__()\n",
    "        \n",
    "        self.backbone = timm.create_model(backbone_name, num_classes=n_classes, pretrained=False)\n",
    "        in_features = self.backbone.get_classifier().in_features\n",
    "        \n",
    "        self.backbone.classifier = nn.Identity()\n",
    "        self.embedding = nn.Linear(in_features, embedding_size)\n",
    "        self.classifier = nn.Linear(embedding_size, n_classes)\n",
    "\n",
    "    def embed_and_classify(self, x):\n",
    "        x = self.forward(x)\n",
    "        return x, self.classifier(x)\n",
    "\n",
    "    def forward(self, x):\n",
    "        x = self.backbone(x)\n",
    "        x = x.view(x.size(0), -1)\n",
    "        x = self.embedding(x)\n",
    "        return x"
   ]
  },
  {
   "cell_type": "markdown",
   "id": "ee2836f8",
   "metadata": {
    "id": "YMZYKhUSneMY",
    "papermill": {
     "duration": 0.023045,
     "end_time": "2022-05-30T14:31:42.382576",
     "exception": false,
     "start_time": "2022-05-30T14:31:42.359531",
     "status": "completed"
    },
    "tags": []
   },
   "source": [
    "# Model helper functions"
   ]
  },
  {
   "cell_type": "code",
   "execution_count": 12,
   "id": "0b7d6409",
   "metadata": {
    "execution": {
     "iopub.execute_input": "2022-05-30T14:31:42.433439Z",
     "iopub.status.busy": "2022-05-30T14:31:42.432664Z",
     "iopub.status.idle": "2022-05-30T14:31:42.435030Z",
     "shell.execute_reply": "2022-05-30T14:31:42.434633Z",
     "shell.execute_reply.started": "2022-05-30T14:30:05.888815Z"
    },
    "papermill": {
     "duration": 0.03016,
     "end_time": "2022-05-30T14:31:42.435139",
     "exception": false,
     "start_time": "2022-05-30T14:31:42.404979",
     "status": "completed"
    },
    "tags": []
   },
   "outputs": [],
   "source": [
    "def generate_embeddings(args, loader, model, bar_desc=\"Generating embeds\"):\n",
    "    outputs_all = []\n",
    "    \n",
    "    model.eval()\n",
    "    with torch.no_grad():\n",
    "        t = tqdm(loader, desc=bar_desc)\n",
    "        for i, sample in enumerate(t):\n",
    "            input = sample['image'].to(args.device)\n",
    "            output = model(input)\n",
    "            outputs_all.extend(output.detach().cpu().numpy())\n",
    "            \n",
    "    return outputs_all"
   ]
  },
  {
   "cell_type": "code",
   "execution_count": 13,
   "id": "99b7e7f9",
   "metadata": {
    "execution": {
     "iopub.execute_input": "2022-05-30T14:31:42.486939Z",
     "iopub.status.busy": "2022-05-30T14:31:42.486211Z",
     "iopub.status.idle": "2022-05-30T14:31:42.488707Z",
     "shell.execute_reply": "2022-05-30T14:31:42.488285Z",
     "shell.execute_reply.started": "2022-05-30T14:30:05.904079Z"
    },
    "papermill": {
     "duration": 0.031452,
     "end_time": "2022-05-30T14:31:42.488813",
     "exception": false,
     "start_time": "2022-05-30T14:31:42.457361",
     "status": "completed"
    },
    "tags": []
   },
   "outputs": [],
   "source": [
    "def find_matches(query, base_embeds, base_targets, k=N_MATCHES):\n",
    "    distance_df = pd.DataFrame(index=np.arange(len(base_targets)), data={\"hotel_id\": base_targets})\n",
    "    # calculate cosine distance of query embeds to all base embeds\n",
    "    distance_df[\"distance\"] = cosine_similarity([query], list(base_embeds))[0]\n",
    "    # sort by distance and hotel_id\n",
    "    distance_df = distance_df.sort_values(by=[\"distance\", \"hotel_id\"], ascending=False).reset_index(drop=True)\n",
    "    # return first 5 different hotel_id_codes\n",
    "    return distance_df[\"hotel_id\"].unique()[:N_MATCHES]\n",
    "\n",
    "\n",
    "def predict(args, base_embeddings_df, test_loader, model):\n",
    "    test_embeds = generate_embeddings(args, test_loader, model, \"Generate test embeddings\")\n",
    "    \n",
    "    preds = []\n",
    "    for query_embeds in tqdm(test_embeds, desc=\"Similarity - match finding\"):\n",
    "        tmp = find_matches(query_embeds, \n",
    "                           base_embeddings_df[\"embeddings\"].values, \n",
    "                           base_embeddings_df[\"hotel_id\"].values)\n",
    "        preds.extend([tmp])\n",
    "        \n",
    "    return preds"
   ]
  },
  {
   "cell_type": "markdown",
   "id": "0d174791",
   "metadata": {
    "id": "AwShW1wXniD6",
    "papermill": {
     "duration": 0.021988,
     "end_time": "2022-05-30T14:31:42.532956",
     "exception": false,
     "start_time": "2022-05-30T14:31:42.510968",
     "status": "completed"
    },
    "tags": []
   },
   "source": [
    "# Prepare data"
   ]
  },
  {
   "cell_type": "code",
   "execution_count": 14,
   "id": "459c1e1c",
   "metadata": {
    "execution": {
     "iopub.execute_input": "2022-05-30T14:31:42.580055Z",
     "iopub.status.busy": "2022-05-30T14:31:42.579243Z",
     "iopub.status.idle": "2022-05-30T14:31:42.593403Z",
     "shell.execute_reply": "2022-05-30T14:31:42.593020Z",
     "shell.execute_reply.started": "2022-05-30T14:30:05.916458Z"
    },
    "executionInfo": {
     "elapsed": 3742,
     "status": "ok",
     "timestamp": 1619311036476,
     "user": {
      "displayName": "Jeom Jin-Ho",
      "photoUrl": "",
      "userId": "00155613517919499503"
     },
     "user_tz": -120
    },
    "id": "discrete-right",
    "outputId": "c21ed589-3139-4919-b5d5-07bcf6f1df15",
    "papermill": {
     "duration": 0.038421,
     "end_time": "2022-05-30T14:31:42.593552",
     "exception": false,
     "start_time": "2022-05-30T14:31:42.555131",
     "status": "completed"
    },
    "tags": []
   },
   "outputs": [],
   "source": [
    "test_df = pd.DataFrame(data={\"image_id\": os.listdir(TEST_DATA_FOLDER), \"hotel_id\": \"\"}).sort_values(by=\"image_id\")"
   ]
  },
  {
   "cell_type": "markdown",
   "id": "de9a2f15",
   "metadata": {
    "id": "5JPdD2bpnniP",
    "papermill": {
     "duration": 0.022084,
     "end_time": "2022-05-30T14:31:42.638281",
     "exception": false,
     "start_time": "2022-05-30T14:31:42.616197",
     "status": "completed"
    },
    "tags": []
   },
   "source": [
    "# Prepare model"
   ]
  },
  {
   "cell_type": "code",
   "execution_count": 15,
   "id": "da1ab5b7",
   "metadata": {
    "execution": {
     "iopub.execute_input": "2022-05-30T14:31:42.687422Z",
     "iopub.status.busy": "2022-05-30T14:31:42.686660Z",
     "iopub.status.idle": "2022-05-30T14:31:42.689020Z",
     "shell.execute_reply": "2022-05-30T14:31:42.688604Z",
     "shell.execute_reply.started": "2022-05-30T14:30:05.950262Z"
    },
    "papermill": {
     "duration": 0.028623,
     "end_time": "2022-05-30T14:31:42.689126",
     "exception": false,
     "start_time": "2022-05-30T14:31:42.660503",
     "status": "completed"
    },
    "tags": []
   },
   "outputs": [],
   "source": [
    "def get_model(backbone_name, checkpoint_path, args):\n",
    "    model = EmbeddingModel(args.n_classes, args.embedding_size, backbone_name)\n",
    "        \n",
    "    checkpoint = torch.load(checkpoint_path)\n",
    "    model.load_state_dict(checkpoint[\"model\"])\n",
    "    model = model.to(args.device)\n",
    "    \n",
    "    return model"
   ]
  },
  {
   "cell_type": "code",
   "execution_count": 16,
   "id": "9fee64a0",
   "metadata": {
    "execution": {
     "iopub.execute_input": "2022-05-30T14:31:42.791273Z",
     "iopub.status.busy": "2022-05-30T14:31:42.790610Z",
     "iopub.status.idle": "2022-05-30T14:31:42.795483Z",
     "shell.execute_reply": "2022-05-30T14:31:42.795033Z",
     "shell.execute_reply.started": "2022-05-30T14:30:05.959991Z"
    },
    "executionInfo": {
     "elapsed": 450,
     "status": "ok",
     "timestamp": 1619311064188,
     "user": {
      "displayName": "Jeom Jin-Ho",
      "photoUrl": "",
      "userId": "00155613517919499503"
     },
     "user_tz": -120
    },
    "id": "appointed-machinery",
    "papermill": {
     "duration": 0.08438,
     "end_time": "2022-05-30T14:31:42.795600",
     "exception": false,
     "start_time": "2022-05-30T14:31:42.711220",
     "status": "completed"
    },
    "tags": []
   },
   "outputs": [],
   "source": [
    "class args:\n",
    "    batch_size = 64\n",
    "    num_workers = 2\n",
    "    embedding_size = 512\n",
    "    device = ('cuda' if torch.cuda.is_available() else 'cpu')\n",
    "    \n",
    "    \n",
    "seed_everything(seed=SEED)\n",
    "\n",
    "test_dataset = HotelImageDataset(test_df, base_transform, data_folder=TEST_DATA_FOLDER)\n",
    "test_loader  = DataLoader(test_dataset, num_workers=args.num_workers, batch_size=args.batch_size, shuffle=False)"
   ]
  },
  {
   "cell_type": "code",
   "execution_count": 17,
   "id": "e3a884dc",
   "metadata": {
    "execution": {
     "iopub.execute_input": "2022-05-30T14:31:42.844672Z",
     "iopub.status.busy": "2022-05-30T14:31:42.844104Z",
     "iopub.status.idle": "2022-05-30T14:31:44.000201Z",
     "shell.execute_reply": "2022-05-30T14:31:44.000619Z",
     "shell.execute_reply.started": "2022-05-30T14:30:06.040343Z"
    },
    "papermill": {
     "duration": 1.182345,
     "end_time": "2022-05-30T14:31:44.000767",
     "exception": false,
     "start_time": "2022-05-30T14:31:42.818422",
     "status": "completed"
    },
    "tags": []
   },
   "outputs": [
    {
     "data": {
      "text/html": [
       "<div>\n",
       "<style scoped>\n",
       "    .dataframe tbody tr th:only-of-type {\n",
       "        vertical-align: middle;\n",
       "    }\n",
       "\n",
       "    .dataframe tbody tr th {\n",
       "        vertical-align: top;\n",
       "    }\n",
       "\n",
       "    .dataframe thead th {\n",
       "        text-align: right;\n",
       "    }\n",
       "</style>\n",
       "<table border=\"1\" class=\"dataframe\">\n",
       "  <thead>\n",
       "    <tr style=\"text-align: right;\">\n",
       "      <th></th>\n",
       "      <th>image_id</th>\n",
       "      <th>hotel_id</th>\n",
       "      <th>hotel_id_code</th>\n",
       "      <th>embeddings</th>\n",
       "    </tr>\n",
       "  </thead>\n",
       "  <tbody>\n",
       "    <tr>\n",
       "      <th>0</th>\n",
       "      <td>000011648.jpg</td>\n",
       "      <td>155262</td>\n",
       "      <td>994</td>\n",
       "      <td>[1.9244325, -1.4674523, 1.7928236, -1.0073497,...</td>\n",
       "    </tr>\n",
       "    <tr>\n",
       "      <th>1</th>\n",
       "      <td>000011630.jpg</td>\n",
       "      <td>155260</td>\n",
       "      <td>992</td>\n",
       "      <td>[3.0649803, -3.0648677, 1.6625254, -3.0134478,...</td>\n",
       "    </tr>\n",
       "    <tr>\n",
       "      <th>2</th>\n",
       "      <td>000011650.jpg</td>\n",
       "      <td>155262</td>\n",
       "      <td>994</td>\n",
       "      <td>[1.9930882, -1.0206925, 1.5820591, -2.3655887,...</td>\n",
       "    </tr>\n",
       "    <tr>\n",
       "      <th>3</th>\n",
       "      <td>000011633.jpg</td>\n",
       "      <td>155261</td>\n",
       "      <td>993</td>\n",
       "      <td>[0.7753299, -3.4177134, 3.0234382, -2.2175214,...</td>\n",
       "    </tr>\n",
       "    <tr>\n",
       "      <th>4</th>\n",
       "      <td>000011656.jpg</td>\n",
       "      <td>155261</td>\n",
       "      <td>993</td>\n",
       "      <td>[3.774505, -4.4602914, 0.6393719, -0.97502023,...</td>\n",
       "    </tr>\n",
       "  </tbody>\n",
       "</table>\n",
       "</div>"
      ],
      "text/plain": [
       "        image_id hotel_id  hotel_id_code  \\\n",
       "0  000011648.jpg   155262            994   \n",
       "1  000011630.jpg   155260            992   \n",
       "2  000011650.jpg   155262            994   \n",
       "3  000011633.jpg   155261            993   \n",
       "4  000011656.jpg   155261            993   \n",
       "\n",
       "                                          embeddings  \n",
       "0  [1.9244325, -1.4674523, 1.7928236, -1.0073497,...  \n",
       "1  [3.0649803, -3.0648677, 1.6625254, -3.0134478,...  \n",
       "2  [1.9930882, -1.0206925, 1.5820591, -2.3655887,...  \n",
       "3  [0.7753299, -3.4177134, 3.0234382, -2.2175214,...  \n",
       "4  [3.774505, -4.4602914, 0.6393719, -0.97502023,...  "
      ]
     },
     "metadata": {},
     "output_type": "display_data"
    }
   ],
   "source": [
    "base_embeddings_df = pd.read_pickle('../input/hotel-id-starter-similarity-training/embedding-model-efficientnet_b2_pruned-256x256_image-embeddings.pkl')\n",
    "display(base_embeddings_df.head())"
   ]
  },
  {
   "cell_type": "code",
   "execution_count": 18,
   "id": "9f7af2d8",
   "metadata": {
    "execution": {
     "iopub.execute_input": "2022-05-30T14:31:44.056860Z",
     "iopub.status.busy": "2022-05-30T14:31:44.056087Z",
     "iopub.status.idle": "2022-05-30T14:31:49.381922Z",
     "shell.execute_reply": "2022-05-30T14:31:49.382851Z",
     "shell.execute_reply.started": "2022-05-30T14:30:07.720203Z"
    },
    "papermill": {
     "duration": 5.358627,
     "end_time": "2022-05-30T14:31:49.383020",
     "exception": false,
     "start_time": "2022-05-30T14:31:44.024393",
     "status": "completed"
    },
    "tags": []
   },
   "outputs": [],
   "source": [
    "args.n_classes = base_embeddings_df[\"hotel_id\"].nunique()\n",
    "\n",
    "model = get_model(\"efficientnet_b2_pruned\",\n",
    "                  \"../input/hotel-id-starter-similarity-training/checkpoint-embedding-model-efficientnet_b2_pruned-256x256.pt\", \n",
    "                  args)"
   ]
  },
  {
   "cell_type": "markdown",
   "id": "34f267f5",
   "metadata": {
    "papermill": {
     "duration": 0.039529,
     "end_time": "2022-05-30T14:31:49.462637",
     "exception": false,
     "start_time": "2022-05-30T14:31:49.423108",
     "status": "completed"
    },
    "tags": []
   },
   "source": [
    "# Submission"
   ]
  },
  {
   "cell_type": "code",
   "execution_count": 19,
   "id": "6b739fe6",
   "metadata": {
    "execution": {
     "iopub.execute_input": "2022-05-30T14:31:49.545541Z",
     "iopub.status.busy": "2022-05-30T14:31:49.541342Z",
     "iopub.status.idle": "2022-05-30T14:31:56.272751Z",
     "shell.execute_reply": "2022-05-30T14:31:56.273341Z",
     "shell.execute_reply.started": "2022-05-30T14:30:15.111602Z"
    },
    "papermill": {
     "duration": 6.773904,
     "end_time": "2022-05-30T14:31:56.273556",
     "exception": false,
     "start_time": "2022-05-30T14:31:49.499652",
     "status": "completed"
    },
    "tags": []
   },
   "outputs": [
    {
     "name": "stderr",
     "output_type": "stream",
     "text": [
      "Generate test embeddings: 100%|██████████| 1/1 [00:06<00:00,  6.28s/it]\n",
      "Similarity - match finding: 100%|██████████| 1/1 [00:00<00:00,  2.36it/s]"
     ]
    },
    {
     "name": "stdout",
     "output_type": "stream",
     "text": [
      "CPU times: user 1.11 s, sys: 871 ms, total: 1.98 s\n",
      "Wall time: 6.72 s\n"
     ]
    },
    {
     "name": "stderr",
     "output_type": "stream",
     "text": [
      "\n"
     ]
    },
    {
     "data": {
      "text/html": [
       "<div>\n",
       "<style scoped>\n",
       "    .dataframe tbody tr th:only-of-type {\n",
       "        vertical-align: middle;\n",
       "    }\n",
       "\n",
       "    .dataframe tbody tr th {\n",
       "        vertical-align: top;\n",
       "    }\n",
       "\n",
       "    .dataframe thead th {\n",
       "        text-align: right;\n",
       "    }\n",
       "</style>\n",
       "<table border=\"1\" class=\"dataframe\">\n",
       "  <thead>\n",
       "    <tr style=\"text-align: right;\">\n",
       "      <th></th>\n",
       "      <th>image_id</th>\n",
       "      <th>hotel_id</th>\n",
       "    </tr>\n",
       "  </thead>\n",
       "  <tbody>\n",
       "    <tr>\n",
       "      <th>0</th>\n",
       "      <td>abc.jpg</td>\n",
       "      <td>309609 94762 198828 38656 6752</td>\n",
       "    </tr>\n",
       "  </tbody>\n",
       "</table>\n",
       "</div>"
      ],
      "text/plain": [
       "  image_id                        hotel_id\n",
       "0  abc.jpg  309609 94762 198828 38656 6752"
      ]
     },
     "execution_count": 19,
     "metadata": {},
     "output_type": "execute_result"
    }
   ],
   "source": [
    "%%time\n",
    "\n",
    "preds = predict(args, base_embeddings_df, test_loader, model)\n",
    "# transform array of hotel_ids into string\n",
    "\n",
    "test_df[\"hotel_id\"] = [str(list([int(j[:-1]) for j in l])).strip(\"[]\").replace(\",\", \"\") for l in preds]\n",
    "\n",
    "test_df.to_csv(\"submission.csv\", index=False)\n",
    "test_df.head()"
   ]
  }
 ],
 "metadata": {
  "kernelspec": {
   "display_name": "Python 3",
   "language": "python",
   "name": "python3"
  },
  "language_info": {
   "codemirror_mode": {
    "name": "ipython",
    "version": 3
   },
   "file_extension": ".py",
   "mimetype": "text/x-python",
   "name": "python",
   "nbconvert_exporter": "python",
   "pygments_lexer": "ipython3",
   "version": "3.7.12"
  },
  "papermill": {
   "default_parameters": {},
   "duration": 30.09123,
   "end_time": "2022-05-30T14:31:57.911924",
   "environment_variables": {},
   "exception": null,
   "input_path": "__notebook__.ipynb",
   "output_path": "__notebook__.ipynb",
   "parameters": {},
   "start_time": "2022-05-30T14:31:27.820694",
   "version": "2.3.3"
  }
 },
 "nbformat": 4,
 "nbformat_minor": 5
}
